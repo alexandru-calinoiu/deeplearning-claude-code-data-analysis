{
 "cells": [
  {
   "cell_type": "markdown",
   "id": "header",
   "metadata": {},
   "source": [
    "# E-Commerce Business Analytics - Exploratory Data Analysis\n",
    "\n",
    "This notebook provides a comprehensive analysis of e-commerce business performance, focusing on revenue trends, product performance, geographic distribution, and customer experience metrics.\n",
    "\n",
    "**Analysis Period**: Configurable by year and month  \n",
    "**Last Updated**: 2025-10-03"
   ]
  },
  {
   "cell_type": "markdown",
   "id": "toc",
   "metadata": {},
   "source": [
    "## Table of Contents\n",
    "\n",
    "1. [Introduction and Business Objectives](#1-introduction-and-business-objectives)\n",
    "2. [Data Loading and Configuration](#2-data-loading-and-configuration)\n",
    "3. [Data Dictionary](#3-data-dictionary)\n",
    "4. [Data Preparation and Transformation](#4-data-preparation-and-transformation)\n",
    "5. [Business Metrics Analysis](#5-business-metrics-analysis)\n",
    "   - 5.1 [Revenue Analysis](#51-revenue-analysis)\n",
    "   - 5.2 [Product Performance Analysis](#52-product-performance-analysis)\n",
    "   - 5.3 [Geographic Performance Analysis](#53-geographic-performance-analysis)\n",
    "   - 5.4 [Customer Experience Analysis](#54-customer-experience-analysis)\n",
    "6. [Summary and Key Insights](#6-summary-and-key-insights)"
   ]
  },
  {
   "cell_type": "markdown",
   "id": "intro",
   "metadata": {},
   "source": [
    "## 1. Introduction and Business Objectives\n",
    "\n",
    "### Business Objectives\n",
    "\n",
    "This analysis aims to answer key business questions:\n",
    "\n",
    "- **Revenue Performance**: How is revenue trending? What is the year-over-year growth?\n",
    "- **Product Strategy**: Which product categories are driving the most revenue?\n",
    "- **Geographic Expansion**: Which states represent our strongest markets?\n",
    "- **Customer Satisfaction**: How satisfied are our customers? How does delivery speed impact satisfaction?\n",
    "- **Operational Efficiency**: What is our average delivery time and how can we improve?\n",
    "\n",
    "### Methodology\n",
    "\n",
    "The analysis uses a modular approach with custom Python modules for data loading and metrics calculation, ensuring reproducibility and code reusability."
   ]
  },
  {
   "cell_type": "markdown",
   "id": "config-header",
   "metadata": {},
   "source": [
    "## 2. Data Loading and Configuration\n",
    "\n",
    "Configure the analysis parameters below to analyze different time periods."
   ]
  },
  {
   "cell_type": "code",
   "execution_count": null,
   "id": "imports",
   "metadata": {},
   "outputs": [],
   "source": "# Import required libraries\nimport pandas as pd\nimport matplotlib.pyplot as plt\nimport warnings\n\n# Import custom modules\nfrom data_loader import load_and_process_data\nfrom business_metrics import BusinessMetricsCalculator, MetricsVisualizer\n\n# Configure display settings\nwarnings.filterwarnings('ignore')\npd.set_option('display.max_columns', None)\npd.set_option('display.float_format', '{:.2f}'.format)\n\n# Set plotting style\nplt.style.use('seaborn-v0_8-darkgrid')\n%matplotlib inline"
  },
  {
   "cell_type": "code",
   "execution_count": null,
   "id": "config",
   "metadata": {},
   "outputs": [],
   "source": "# Analysis Configuration\n# Modify these parameters to analyze different time periods\n\nANALYSIS_YEAR = 2023           # Primary year to analyze\nCOMPARISON_YEAR = 2022         # Year to compare against (for YoY metrics)\nANALYSIS_MONTH = None          # Specific month (1-12) or None for full year\nDATA_PATH = 'ecommerce_data/'  # Path to data files\n\nprint(\"Analysis Configuration:\")\nprint(f\"  Primary Period: {ANALYSIS_YEAR}\" + (f\"-{ANALYSIS_MONTH:02d}\" if ANALYSIS_MONTH else \"\"))\nprint(f\"  Comparison Period: {COMPARISON_YEAR}\")\nprint(f\"  Data Path: {DATA_PATH}\")"
  },
  {
   "cell_type": "code",
   "execution_count": null,
   "id": "load-data",
   "metadata": {},
   "outputs": [],
   "source": [
    "# Load and process all data\n",
    "print(\"Loading data...\")\n",
    "loader, processed_data = load_and_process_data(DATA_PATH)\n",
    "\n",
    "# Display data summary\n",
    "summary = loader.get_data_summary()\n",
    "print(\"\\nData Summary:\")\n",
    "print(f\"  Total Orders: {summary.get('total_orders', 'N/A'):,}\")\n",
    "print(f\"  Date Range: {summary.get('date_range', {}).get('start', 'N/A')} to {summary.get('date_range', {}).get('end', 'N/A')}\")\n",
    "print(f\"  Years Available: {summary.get('years_available', 'N/A')}\")\n",
    "print(f\"  Total Products: {summary.get('total_products', 'N/A'):,}\")\n",
    "print(f\"  Product Categories: {summary.get('product_categories', 'N/A')}\")\n",
    "print(f\"  States: {summary.get('states', 'N/A')}\")\n",
    "print(\"\\nData loaded successfully!\")"
   ]
  },
  {
   "cell_type": "markdown",
   "id": "data-dict",
   "metadata": {},
   "source": [
    "## 3. Data Dictionary\n",
    "\n",
    "### Key Tables and Columns\n",
    "\n",
    "**Orders Table**\n",
    "- `order_id`: Unique identifier for each order\n",
    "- `customer_id`: Unique identifier for each customer\n",
    "- `order_status`: Current status (delivered, shipped, canceled, pending, processing, returned)\n",
    "- `order_purchase_timestamp`: When the order was placed\n",
    "- `order_delivered_customer_date`: When the order was delivered to customer\n",
    "\n",
    "**Order Items Table**\n",
    "- `order_id`: Links to orders table\n",
    "- `product_id`: Links to products table\n",
    "- `price`: Product price (excludes freight)\n",
    "- `freight_value`: Shipping cost\n",
    "\n",
    "**Products Table**\n",
    "- `product_id`: Unique identifier for each product\n",
    "- `product_category_name`: Product category\n",
    "\n",
    "**Customers Table**\n",
    "- `customer_id`: Unique identifier for each customer\n",
    "- `customer_state`: US state abbreviation\n",
    "- `customer_city`: City name\n",
    "\n",
    "**Reviews Table**\n",
    "- `order_id`: Links to orders table\n",
    "- `review_score`: Customer rating (1-5 scale, 5 being best)\n",
    "\n",
    "### Calculated Metrics\n",
    "\n",
    "- **Revenue**: Sum of product prices (excludes freight in totals)\n",
    "- **Average Order Value (AOV)**: Total revenue divided by number of unique orders\n",
    "- **Delivery Days**: Days between order purchase and customer delivery\n",
    "- **Delivery Speed Categories**:\n",
    "  - Fast: 1-3 days\n",
    "  - Medium: 4-7 days\n",
    "  - Slow: 8+ days\n",
    "- **High Satisfaction**: Review score >= 4"
   ]
  },
  {
   "cell_type": "markdown",
   "id": "prep-header",
   "metadata": {},
   "source": [
    "## 4. Data Preparation and Transformation\n",
    "\n",
    "Create filtered datasets for the analysis period and comparison period."
   ]
  },
  {
   "cell_type": "code",
   "execution_count": null,
   "id": "create-datasets",
   "metadata": {},
   "outputs": [],
   "source": [
    "# Create sales dataset for analysis period\n",
    "print(f\"Creating dataset for {ANALYSIS_YEAR}\" + (f\" Month {ANALYSIS_MONTH}\" if ANALYSIS_MONTH else \" (Full Year)\") + \"...\")\n",
    "sales_current = loader.create_sales_dataset(\n",
    "    year_filter=ANALYSIS_YEAR,\n",
    "    month_filter=ANALYSIS_MONTH,\n",
    "    status_filter='delivered'\n",
    ")\n",
    "\n",
    "print(f\"  Records: {len(sales_current):,}\")\n",
    "print(f\"  Orders: {sales_current['order_id'].nunique():,}\")\n",
    "print(f\"  Customers: {sales_current['customer_id'].nunique():,}\")\n",
    "\n",
    "# Create comparison dataset\n",
    "print(f\"\\nCreating dataset for {COMPARISON_YEAR}\" + (f\" Month {ANALYSIS_MONTH}\" if ANALYSIS_MONTH else \" (Full Year)\") + \"...\")\n",
    "sales_comparison = loader.create_sales_dataset(\n",
    "    year_filter=COMPARISON_YEAR,\n",
    "    month_filter=ANALYSIS_MONTH,\n",
    "    status_filter='delivered'\n",
    ")\n",
    "\n",
    "print(f\"  Records: {len(sales_comparison):,}\")\n",
    "print(f\"  Orders: {sales_comparison['order_id'].nunique():,}\")\n",
    "print(f\"  Customers: {sales_comparison['customer_id'].nunique():,}\")"
   ]
  },
  {
   "cell_type": "code",
   "execution_count": null,
   "id": "preview-data",
   "metadata": {},
   "outputs": [],
   "source": "# Preview the sales dataset\nprint(f\"Sample of {ANALYSIS_YEAR} Sales Data:\")\ndisplay(sales_current.head())\n\nprint(\"\\nData Types:\")\ndisplay(sales_current.dtypes)"
  },
  {
   "cell_type": "markdown",
   "id": "metrics-header",
   "metadata": {},
   "source": [
    "## 5. Business Metrics Analysis\n",
    "\n",
    "Comprehensive analysis of business performance across multiple dimensions."
   ]
  },
  {
   "cell_type": "markdown",
   "id": "revenue-header",
   "metadata": {},
   "source": [
    "### 5.1 Revenue Analysis\n",
    "\n",
    "Analyze overall revenue performance, trends, and year-over-year growth."
   ]
  },
  {
   "cell_type": "code",
   "execution_count": null,
   "id": "revenue-metrics",
   "metadata": {},
   "outputs": [],
   "source": [
    "# Calculate revenue metrics\n",
    "calculator = BusinessMetricsCalculator(sales_current)\n",
    "revenue_metrics = calculator.calculate_revenue_metrics(comparison_data=sales_comparison)\n",
    "\n",
    "print(f\"Revenue Metrics for {ANALYSIS_YEAR}:\")\n",
    "print(\"=\" * 50)\n",
    "print(f\"Total Revenue: ${revenue_metrics['total_revenue']:,.2f}\")\n",
    "print(f\"Total Orders: {revenue_metrics['total_orders']:,}\")\n",
    "print(f\"Total Items Sold: {revenue_metrics['total_items']:,}\")\n",
    "print(f\"\\nAverage Order Value: ${revenue_metrics['average_order_value']:,.2f}\")\n",
    "print(f\"Median Order Value: ${revenue_metrics['median_order_value']:,.2f}\")\n",
    "print(f\"Average Items per Order: {revenue_metrics['avg_items_per_order']:.2f}\")\n",
    "\n",
    "if revenue_metrics.get('revenue_growth_pct') is not None:\n",
    "    print(f\"\\nYear-over-Year Comparison vs {COMPARISON_YEAR}:\")\n",
    "    print(\"=\" * 50)\n",
    "    print(f\"Revenue Growth: {revenue_metrics['revenue_growth_pct']:+.2f}%\")\n",
    "    print(f\"Order Growth: {revenue_metrics['order_growth_pct']:+.2f}%\")\n",
    "    print(f\"AOV Growth: {revenue_metrics['aov_growth_pct']:+.2f}%\")"
   ]
  },
  {
   "cell_type": "code",
   "execution_count": null,
   "id": "monthly-trends",
   "metadata": {},
   "outputs": [],
   "source": "# Calculate monthly trends (only for full year analysis)\nif ANALYSIS_MONTH is None:\n    monthly_trends = calculator.calculate_monthly_trends()\n    \n    print(f\"\\nMonthly Trends for {ANALYSIS_YEAR}:\")\n    print(\"=\" * 80)\n    \n    # Format the display\n    display_df = monthly_trends.copy()\n    display_df['revenue'] = display_df['revenue'].apply(lambda x: f\"${x:,.2f}\")\n    display_df['avg_order_value'] = display_df['avg_order_value'].apply(lambda x: f\"${x:,.2f}\")\n    display_df['revenue_growth_pct'] = display_df['revenue_growth_pct'].apply(\n        lambda x: f\"{x:+.2f}%\" if pd.notna(x) else \"N/A\"\n    )\n    display_df['orders_growth_pct'] = display_df['orders_growth_pct'].apply(\n        lambda x: f\"{x:+.2f}%\" if pd.notna(x) else \"N/A\"\n    )\n    \n    display(display_df)\n    \n    # Calculate average monthly growth\n    avg_monthly_growth = monthly_trends['revenue_growth_pct'].mean()\n    print(f\"\\nAverage Month-over-Month Revenue Growth: {avg_monthly_growth:.2f}%\")\nelse:\n    print(\"\\nMonthly trends analysis is only available for full year analysis.\")\n    print(f\"Current configuration is analyzing a specific month: {ANALYSIS_YEAR}-{ANALYSIS_MONTH:02d}\")"
  },
  {
   "cell_type": "code",
   "execution_count": null,
   "id": "revenue-viz",
   "metadata": {},
   "outputs": [],
   "source": [
    "# Visualize revenue trend (only for full year)\n",
    "if ANALYSIS_MONTH is None:\n",
    "    visualizer = MetricsVisualizer()\n",
    "    fig = visualizer.plot_revenue_trend(\n",
    "        monthly_trends,\n",
    "        title=f\"Monthly Revenue Trend - {ANALYSIS_YEAR}\"\n",
    "    )\n",
    "    plt.show()\n",
    "else:\n",
    "    print(\"Revenue trend visualization is only available for full year analysis.\")"
   ]
  },
  {
   "cell_type": "markdown",
   "id": "product-header",
   "metadata": {},
   "source": [
    "### 5.2 Product Performance Analysis\n",
    "\n",
    "Identify top-performing product categories and their contribution to overall revenue."
   ]
  },
  {
   "cell_type": "code",
   "execution_count": null,
   "id": "product-metrics",
   "metadata": {},
   "outputs": [],
   "source": "# Analyze product performance\nproduct_performance = calculator.analyze_product_performance()\n\nprint(f\"Product Category Performance for {ANALYSIS_YEAR}:\")\nprint(\"=\" * 80)\n\n# Format for display\ndisplay_df = product_performance.copy()\ndisplay_df['revenue'] = display_df['revenue'].apply(lambda x: f\"${x:,.2f}\")\ndisplay_df['revenue_share_pct'] = display_df['revenue_share_pct'].apply(lambda x: f\"{x:.2f}%\")\ndisplay_df['avg_order_value'] = display_df['avg_order_value'].apply(lambda x: f\"${x:,.2f}\")\n\ndisplay(display_df)\n\n# Top 3 categories\nprint(\"\\nTop 3 Product Categories by Revenue:\")\nfor idx, row in product_performance.head(3).iterrows():\n    print(f\"  {idx+1}. {row['category']}: ${row['revenue']:,.2f} ({row['revenue_share_pct']:.2f}% of total)\")"
  },
  {
   "cell_type": "code",
   "execution_count": null,
   "id": "product-viz",
   "metadata": {},
   "outputs": [],
   "source": [
    "# Visualize product category performance\n",
    "visualizer = MetricsVisualizer()\n",
    "fig = visualizer.plot_category_performance(\n",
    "    product_performance,\n",
    "    top_n=10,\n",
    "    title=f\"Top 10 Product Categories by Revenue - {ANALYSIS_YEAR}\"\n",
    ")\n",
    "plt.show()"
   ]
  },
  {
   "cell_type": "markdown",
   "id": "geo-header",
   "metadata": {},
   "source": [
    "### 5.3 Geographic Performance Analysis\n",
    "\n",
    "Analyze revenue distribution across different states to identify key markets."
   ]
  },
  {
   "cell_type": "code",
   "execution_count": null,
   "id": "geo-metrics",
   "metadata": {},
   "outputs": [],
   "source": "# Analyze geographic performance\ngeo_performance = calculator.analyze_geographic_performance()\n\nprint(f\"Geographic Performance for {ANALYSIS_YEAR}:\")\nprint(\"=\" * 80)\n\n# Show top 10 states\ndisplay_df = geo_performance.head(10).copy()\ndisplay_df['revenue'] = display_df['revenue'].apply(lambda x: f\"${x:,.2f}\")\ndisplay_df['revenue_share_pct'] = display_df['revenue_share_pct'].apply(lambda x: f\"{x:.2f}%\")\ndisplay_df['avg_order_value'] = display_df['avg_order_value'].apply(lambda x: f\"${x:,.2f}\")\n\nprint(\"\\nTop 10 States by Revenue:\")\ndisplay(display_df)\n\n# Summary stats\nprint(f\"\\nTop 5 states account for {geo_performance.head(5)['revenue_share_pct'].sum():.2f}% of total revenue\")"
  },
  {
   "cell_type": "code",
   "execution_count": null,
   "id": "geo-viz",
   "metadata": {},
   "outputs": [],
   "source": [
    "# Visualize geographic distribution\n",
    "visualizer = MetricsVisualizer()\n",
    "fig = visualizer.plot_geographic_map(\n",
    "    geo_performance,\n",
    "    title=f\"Revenue by State - {ANALYSIS_YEAR}\"\n",
    ")\n",
    "fig.show()"
   ]
  },
  {
   "cell_type": "markdown",
   "id": "cx-header",
   "metadata": {},
   "source": [
    "### 5.4 Customer Experience Analysis\n",
    "\n",
    "Evaluate customer satisfaction through review scores and delivery performance metrics."
   ]
  },
  {
   "cell_type": "code",
   "execution_count": null,
   "id": "satisfaction-metrics",
   "metadata": {},
   "outputs": [],
   "source": "# Analyze customer satisfaction\nsatisfaction_metrics = calculator.analyze_customer_satisfaction()\n\nprint(f\"Customer Satisfaction Metrics for {ANALYSIS_YEAR}:\")\nprint(\"=\" * 50)\nprint(f\"Total Reviews: {satisfaction_metrics['total_reviews']:,}\")\nprint(f\"Average Review Score: {satisfaction_metrics['avg_review_score']:.2f} / 5.00\")\nprint(f\"Median Review Score: {satisfaction_metrics['median_review_score']:.0f} / 5\")\nprint(f\"High Satisfaction Rate (4-5 stars): {satisfaction_metrics['high_satisfaction_pct']:.2f}%\")\n\nprint(\"\\nReview Score Distribution:\")\nfor score in sorted(satisfaction_metrics['score_distribution'].keys()):\n    pct = satisfaction_metrics['score_distribution'][score] * 100\n    print(f\"  {int(score)} stars: {pct:.2f}%\")"
  },
  {
   "cell_type": "code",
   "execution_count": null,
   "id": "satisfaction-viz",
   "metadata": {},
   "outputs": [],
   "source": [
    "# Visualize review score distribution\n",
    "visualizer = MetricsVisualizer()\n",
    "fig = visualizer.plot_review_distribution(\n",
    "    sales_current,\n",
    "    title=f\"Review Score Distribution - {ANALYSIS_YEAR}\"\n",
    ")\n",
    "plt.show()"
   ]
  },
  {
   "cell_type": "code",
   "execution_count": null,
   "id": "delivery-metrics",
   "metadata": {},
   "outputs": [],
   "source": "# Analyze delivery performance\ndelivery_metrics = calculator.analyze_delivery_performance()\n\nprint(f\"\\nDelivery Performance Metrics for {ANALYSIS_YEAR}:\")\nprint(\"=\" * 50)\nprint(f\"Average Delivery Time: {delivery_metrics['avg_delivery_days']:.1f} days\")\nprint(f\"Median Delivery Time: {delivery_metrics['median_delivery_days']:.0f} days\")\n\nprint(\"\\nDelivery Speed Distribution:\")\nfor category, pct in delivery_metrics['delivery_category_distribution'].items():\n    print(f\"  {category}: {pct*100:.2f}%\")\n\nif 'avg_review_by_delivery_speed' in delivery_metrics:\n    print(\"\\nAverage Review Score by Delivery Speed:\")\n    for category, score in delivery_metrics['avg_review_by_delivery_speed'].items():\n        print(f\"  {category}: {score:.2f} / 5.00\")"
  },
  {
   "cell_type": "code",
   "execution_count": null,
   "id": "delivery-viz",
   "metadata": {},
   "outputs": [],
   "source": [
    "# Visualize delivery performance impact on satisfaction\n",
    "visualizer = MetricsVisualizer()\n",
    "fig = visualizer.plot_delivery_performance(\n",
    "    sales_current,\n",
    "    title=f\"Average Review Score by Delivery Speed - {ANALYSIS_YEAR}\"\n",
    ")\n",
    "plt.show()"
   ]
  },
  {
   "cell_type": "markdown",
   "id": "summary-header",
   "metadata": {},
   "source": [
    "## 6. Summary and Key Insights\n",
    "\n",
    "This section provides a comprehensive summary of the analysis findings."
   ]
  },
  {
   "cell_type": "code",
   "execution_count": null,
   "id": "summary",
   "metadata": {},
   "outputs": [],
   "source": "# Generate comprehensive summary\nprint(f\"EXECUTIVE SUMMARY - {ANALYSIS_YEAR}\")\nprint(\"=\" * 80)\n\n# Revenue Summary\nprint(\"\\nREVENUE PERFORMANCE\")\nprint(\"-\" * 40)\nprint(f\"Total Revenue: ${revenue_metrics['total_revenue']:,.2f}\")\nif revenue_metrics.get('revenue_growth_pct') is not None:\n    growth_direction = \"increase\" if revenue_metrics['revenue_growth_pct'] > 0 else \"decrease\"\n    print(f\"YoY Change: {abs(revenue_metrics['revenue_growth_pct']):.2f}% {growth_direction} vs {COMPARISON_YEAR}\")\nprint(f\"Total Orders: {revenue_metrics['total_orders']:,}\")\nprint(f\"Average Order Value: ${revenue_metrics['average_order_value']:,.2f}\")\n\n# Product Performance Summary\nprint(\"\\nPRODUCT PERFORMANCE\")\nprint(\"-\" * 40)\ntop_category = product_performance.iloc[0]\nprint(f\"Top Category: {top_category['category']}\")\nprint(f\"Top Category Revenue: ${top_category['revenue']:,.2f} ({top_category['revenue_share_pct']:.2f}% of total)\")\nprint(f\"Total Categories: {len(product_performance)}\")\n\n# Geographic Performance Summary\nprint(\"\\nGEOGRAPHIC PERFORMANCE\")\nprint(\"-\" * 40)\ntop_state = geo_performance.iloc[0]\nprint(f\"Top State: {top_state['state']}\")\nprint(f\"Top State Revenue: ${top_state['revenue']:,.2f} ({top_state['revenue_share_pct']:.2f}% of total)\")\nprint(f\"Total States: {len(geo_performance)}\")\n\n# Customer Experience Summary\nprint(\"\\nCUSTOMER EXPERIENCE\")\nprint(\"-\" * 40)\nprint(f\"Average Review Score: {satisfaction_metrics['avg_review_score']:.2f} / 5.00\")\nprint(f\"High Satisfaction Rate: {satisfaction_metrics['high_satisfaction_pct']:.2f}%\")\nprint(f\"Average Delivery Time: {delivery_metrics['avg_delivery_days']:.1f} days\")\n\nprint(\"\\n\" + \"=\" * 80)"
  },
  {
   "cell_type": "markdown",
   "id": "insights",
   "metadata": {},
   "source": [
    "### Key Observations\n",
    "\n",
    "Based on the analysis above, key insights include:\n",
    "\n",
    "**Revenue Trends**\n",
    "- Review the revenue growth rate and identify any significant changes from the previous year\n",
    "- Monitor month-over-month trends to identify seasonal patterns\n",
    "\n",
    "**Product Strategy**\n",
    "- Focus marketing and inventory efforts on top-performing categories\n",
    "- Identify underperforming categories for potential improvement or discontinuation\n",
    "\n",
    "**Geographic Expansion**\n",
    "- Top-performing states represent key markets for targeted campaigns\n",
    "- Lower-performing states may present growth opportunities\n",
    "\n",
    "**Customer Experience**\n",
    "- Faster delivery times are associated with higher review scores\n",
    "- Current satisfaction levels indicate customer retention potential\n",
    "\n",
    "### Next Steps\n",
    "\n",
    "1. Deep-dive analysis on specific underperforming categories\n",
    "2. Investigate opportunities to reduce delivery times\n",
    "3. Conduct cohort analysis to understand customer lifetime value\n",
    "4. Analyze pricing strategies by category and geography"
   ]
  }
 ],
 "metadata": {
  "kernelspec": {
   "display_name": "Python 3",
   "language": "python",
   "name": "python3"
  },
  "language_info": {
   "codemirror_mode": {
    "name": "ipython",
    "version": 3
   },
   "file_extension": ".py",
   "mimetype": "text/x-python",
   "name": "python",
   "nbconvert_exporter": "python",
   "pygments_lexer": "ipython3",
   "version": "3.9.0"
  }
 },
 "nbformat": 4,
 "nbformat_minor": 5
}